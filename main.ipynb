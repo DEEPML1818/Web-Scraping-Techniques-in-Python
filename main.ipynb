{
 "cells": [
  {
   "cell_type": "code",
   "execution_count": null,
   "metadata": {},
   "outputs": [],
   "source": [
    "import requests\n",
    "\n",
    "# Create a session to persist cookies across requests\n",
    "session = requests.Session()\n",
    "\n",
    "# Make a request with the session\n",
    "response = session.get('https://example.com')\n",
    "\n",
    "# Print the content of the response\n",
    "print(response.text)"
   ]
  },
  {
   "cell_type": "code",
   "execution_count": null,
   "metadata": {},
   "outputs": [],
   "source": [
    "import requests\n",
    "from fake_useragent import UserAgent\n",
    "\n",
    "# Create a UserAgent object\n",
    "ua = UserAgent()\n",
    "\n",
    "# Set a random User-Agent header in the request\n",
    "headers = {'User-Agent': ua.random}\n",
    "response = requests.get('https://example.com', headers=headers)\n",
    "\n",
    "print(response.text)"
   ]
  },
  {
   "cell_type": "code",
   "execution_count": null,
   "metadata": {},
   "outputs": [],
   "source": [
    "import requests\n",
    "\n",
    "# Specify a list of proxies\n",
    "proxies = {\n",
    "    'http': 'http://your_proxy_url',\n",
    "    'https': 'https://your_proxy_url',\n",
    "}\n",
    "\n",
    "# Make a request with a proxy\n",
    "response = requests.get('https://example.com', proxies=proxies)\n",
    "\n",
    "print(response.text)"
   ]
  },
  {
   "cell_type": "code",
   "execution_count": null,
   "metadata": {},
   "outputs": [],
   "source": [
    "# Install Scrapy\n",
    "!pip install scrapy"
   ]
  },
  {
   "cell_type": "code",
   "execution_count": null,
   "metadata": {},
   "outputs": [],
   "source": [
    "# Create a Scrapy spider\n",
    "import scrapy\n",
    "\n",
    "class MySpider(scrapy.Spider):\n",
    "    name = 'my_spider'\n",
    "    start_urls = ['https://example.com']\n",
    "\n",
    "    def parse(self, response):\n",
    "        # Your scraping logic here\n",
    "        pass"
   ]
  },
  {
   "cell_type": "code",
   "execution_count": null,
   "metadata": {},
   "outputs": [],
   "source": [
    "import json\n",
    "\n",
    "# Sample data\n",
    "data = {'name': 'John', 'age': 30, 'city': 'New York'}\n",
    "\n",
    "# Write data to a JSON file\n",
    "with open('data.json', 'w') as f:\n",
    "    json.dump(data, f)"
   ]
  },
  {
   "cell_type": "code",
   "execution_count": null,
   "metadata": {},
   "outputs": [],
   "source": [
    "import requests\n",
    "\n",
    "# Make an AJAX request\n",
    "response = requests.get('https://example.com/api/data')\n",
    "\n",
    "# Parse and print the JSON response\n",
    "data = response.json()\n",
    "print(data)"
   ]
  }
 ],
 "metadata": {
  "language_info": {
   "name": "python"
  },
  "orig_nbformat": 4
 },
 "nbformat": 4,
 "nbformat_minor": 2
}
